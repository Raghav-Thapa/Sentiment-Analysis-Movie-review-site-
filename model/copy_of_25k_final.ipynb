{
 "cells": [
  {
   "cell_type": "code",
   "execution_count": 5,
   "metadata": {
    "colab": {
     "base_uri": "https://localhost:8080/"
    },
    "id": "Co6e6Mj6uK8q",
    "outputId": "c1338c67-ce8b-413b-cd18-74d923ed78d5"
   },
   "outputs": [
    {
     "name": "stderr",
     "output_type": "stream",
     "text": [
      "[nltk_data] Downloading package stopwords to\n",
      "[nltk_data]     C:\\Users\\ASUS\\AppData\\Roaming\\nltk_data...\n",
      "[nltk_data]   Package stopwords is already up-to-date!\n"
     ]
    }
   ],
   "source": [
    "import pandas as pd\n",
    "import numpy as np\n",
    "import seaborn as sns\n",
    "import matplotlib.pyplot as plt\n",
    "import re, string\n",
    "from nltk.corpus import stopwords\n",
    "from nltk.stem import PorterStemmer\n",
    "from sklearn.model_selection import train_test_split, RandomizedSearchCV\n",
    "import nltk\n",
    "from sklearn.feature_extraction.text import TfidfVectorizer\n",
    "from sklearn.metrics import classification_report, confusion_matrix\n",
    "from sklearn.metrics import accuracy_score, make_scorer\n",
    "nltk.download('stopwords')\n",
    "%matplotlib inline"
   ]
  },
  {
   "cell_type": "code",
   "execution_count": 6,
   "metadata": {
    "colab": {
     "base_uri": "https://localhost:8080/"
    },
    "id": "7-1jDwXsOztR",
    "outputId": "9a7abf64-e25a-4a82-cc01-568053c0ccc0"
   },
   "outputs": [],
   "source": [
    "# from google.colab import drive\n",
    "# drive.mount('/content/drive')"
   ]
  },
  {
   "cell_type": "code",
   "execution_count": 7,
   "metadata": {
    "id": "cgH9K3SUufB_"
   },
   "outputs": [],
   "source": [
    "file_path = 'final_nnp.csv'"
   ]
  },
  {
   "cell_type": "code",
   "execution_count": 8,
   "metadata": {
    "colab": {
     "base_uri": "https://localhost:8080/"
    },
    "id": "-dxmYbv5ulyi",
    "outputId": "cb47f004-ae5f-44a6-e7ff-5979ed9ee711"
   },
   "outputs": [],
   "source": [
    "df = pd.read_csv(file_path)"
   ]
  },
  {
   "cell_type": "code",
   "execution_count": 9,
   "metadata": {
    "colab": {
     "base_uri": "https://localhost:8080/"
    },
    "id": "9LEcEBTLuZqN",
    "outputId": "e6a3cea4-9b1f-4117-e622-4ca8990d21e2"
   },
   "outputs": [
    {
     "data": {
      "text/plain": [
       "(24707, 3)"
      ]
     },
     "execution_count": 9,
     "metadata": {},
     "output_type": "execute_result"
    }
   ],
   "source": [
    "df.shape"
   ]
  },
  {
   "cell_type": "code",
   "execution_count": 10,
   "metadata": {
    "colab": {
     "base_uri": "https://localhost:8080/"
    },
    "id": "JYhBnaA2ucFp",
    "outputId": "fb201aa5-f0c4-4b26-e328-d72201e4a774"
   },
   "outputs": [
    {
     "data": {
      "text/plain": [
       "rating\n",
       "negative    9055\n",
       "neutral     8171\n",
       "positive    7481\n",
       "Name: rating, dtype: int64"
      ]
     },
     "execution_count": 10,
     "metadata": {},
     "output_type": "execute_result"
    }
   ],
   "source": [
    "df.groupby(\"rating\").rating.count()"
   ]
  },
  {
   "cell_type": "code",
   "execution_count": 11,
   "metadata": {
    "colab": {
     "base_uri": "https://localhost:8080/"
    },
    "id": "rdHLL04sRuUD",
    "outputId": "6c58c79a-7457-405c-b077-95ee1d46a9a2"
   },
   "outputs": [
    {
     "name": "stdout",
     "output_type": "stream",
     "text": [
      "<class 'pandas.core.frame.DataFrame'>\n",
      "RangeIndex: 24707 entries, 0 to 24706\n",
      "Data columns (total 3 columns):\n",
      " #   Column      Non-Null Count  Dtype \n",
      "---  ------      --------------  ----- \n",
      " 0   Unnamed: 0  24707 non-null  int64 \n",
      " 1   rating      24707 non-null  object\n",
      " 2   content     24707 non-null  object\n",
      "dtypes: int64(1), object(2)\n",
      "memory usage: 579.2+ KB\n"
     ]
    }
   ],
   "source": [
    "df.info()"
   ]
  },
  {
   "cell_type": "code",
   "execution_count": 12,
   "metadata": {
    "colab": {
     "base_uri": "https://localhost:8080/"
    },
    "id": "DJOqORJ-SY_j",
    "outputId": "8bb6c340-460b-47bf-f53c-ad111342cc36"
   },
   "outputs": [
    {
     "data": {
      "text/plain": [
       "Unnamed: 0    0\n",
       "rating        0\n",
       "content       0\n",
       "dtype: int64"
      ]
     },
     "execution_count": 12,
     "metadata": {},
     "output_type": "execute_result"
    }
   ],
   "source": [
    "df.isnull().sum()"
   ]
  },
  {
   "cell_type": "markdown",
   "metadata": {
    "id": "rWx6e5pJhdDB"
   },
   "source": [
    "## Preprocessing"
   ]
  },
  {
   "cell_type": "code",
   "execution_count": 13,
   "metadata": {
    "colab": {
     "base_uri": "https://localhost:8080/",
     "height": 157
    },
    "id": "Ii6HKjvGupZx",
    "outputId": "959283fc-86ad-4cf9-a872-13ebd7a8e294"
   },
   "outputs": [
    {
     "name": "stderr",
     "output_type": "stream",
     "text": [
      "C:\\Users\\ASUS\\AppData\\Local\\Temp\\ipykernel_11152\\2034244692.py:2: MarkupResemblesLocatorWarning: The input looks more like a filename than markup. You may want to open this file and pass the filehandle into Beautiful Soup.\n",
      "  df['content'] = df['content'].apply(lambda x: BeautifulSoup(x, 'html.parser').get_text().strip())\n"
     ]
    },
    {
     "data": {
      "text/plain": [
       "\"I took my seven year old to see this last night and she was fine for the first half hour or so and then she became really bored with it. After about an hour and 20 minutes she was asking if we could leave and do something else, that's not a good sign when even young girls don''t like this film.From my own personal point of view, the film is way too long for kids, the songs are borderline horrific, seriously, whoever thought putting a rap song in a film like the little mermaid was a good idea needs to be sectioned, talk about butchering a classic film score.The special effects, all I can say is, how has a film with a budget this big been made to look so poor, some of the underwater scenes look like something from a playstation 2 cut scene, they're awful.The animal characters in this, Scuttle, Sebastian and Flounder are dreadful, they look freaky, not cartoonish or charming, not even realistic, just weird and odd and they really take you out of the film whenever they're on screen.The performances are fine, no one in this is terrible but the script and the songs they're working with are so sub par that anyone would struggle with it.I remember, even as a young boy, watching the original Little Mermaid and being absolutely mesmerised by it, where as this one, is dull, boring and lifeless and not just my own daughter, but other peoples kids in the cinema were fidgeting, squirming and complaining at around the 90 minute make of this.It's far too long to keep most kids entertained and it's not pretty or charming enough to hold their attention for any length of time.Save your money and take your kids to a theme park or an activity center, they'll have a much better time.\""
      ]
     },
     "execution_count": 13,
     "metadata": {},
     "output_type": "execute_result"
    }
   ],
   "source": [
    "from bs4 import BeautifulSoup\n",
    "df['content'] = df['content'].apply(lambda x: BeautifulSoup(x, 'html.parser').get_text().strip())\n",
    "df['content'] = df['content'].str.replace('\\n', '')\n",
    "df['content'][0]"
   ]
  },
  {
   "cell_type": "code",
   "execution_count": 14,
   "metadata": {
    "id": "oVwzPX_25uHP"
   },
   "outputs": [],
   "source": [
    "df = df.sample(frac=1, random_state=42).reset_index(drop=True)\n"
   ]
  },
  {
   "cell_type": "code",
   "execution_count": 15,
   "metadata": {
    "colab": {
     "base_uri": "https://localhost:8080/"
    },
    "id": "1COHfHGnvDRG",
    "outputId": "636538fd-25e9-411a-a0fd-4470b2d07949"
   },
   "outputs": [
    {
     "name": "stdout",
     "output_type": "stream",
     "text": [
      "179\n",
      "['i', 'me', 'my', 'myself', 'we', 'our', 'ours', 'ourselves', 'you', \"you're\", \"you've\", \"you'll\", \"you'd\", 'your', 'yours', 'yourself', 'yourselves', 'he', 'him', 'his', 'himself', 'she', \"she's\", 'her', 'hers', 'herself', 'it', \"it's\", 'its', 'itself', 'they', 'them', 'their', 'theirs', 'themselves', 'what', 'which', 'who', 'whom', 'this', 'that', \"that'll\", 'these', 'those', 'am', 'is', 'are', 'was', 'were', 'be', 'been', 'being', 'have', 'has', 'had', 'having', 'a', 'an', 'the', 'and', 'if', 'or', 'because', 'as', 'until', 'while', 'of', 'at', 'by', 'for', 'with', 'about', 'against', 'between', 'into', 'through', 'during', 'before', 'after', 'above', 'below', 'to', 'from', 'up', 'down', 'in', 'out', 'on', 'off', 'over', 'under', 'again', 'further', 'then', 'once', 'here', 'there', 'when', 'where', 'why', 'how', 'all', 'any', 'both', 'each', 'few', 'more', 'most', 'other', 'some', 'such', 'only', 'own', 'same', 'so', 'than', 'too', 'very', 's', 't', 'can', 'will', 'just', 'now', 'd', 'll', 'm', 'o', 're', 've', 'y', 'ain']\n",
      "132\n"
     ]
    }
   ],
   "source": [
    "words = stopwords.words(\"english\")\n",
    "# words.extend([\"a\", \"an\", \"the\",\"movie\",\"would\", \"could\", \"might\", \"film\",\"shall\"])\n",
    "print(len(words))\n",
    "remove_words = ['aren', \"aren't\", 'couldn', \"couldn't\", 'didn', \"didn't\", 'doesn', \"doesn't\", 'hadn', \"hadn't\", 'hasn', \"hasn't\", 'haven', \"haven't\", 'isn', \"isn't\", 'ma', 'mightn', \"mightn't\", 'mustn', \"mustn't\", 'needn', \"needn't\", 'shan', \"shan't\", 'shouldn', \"shouldn't\", 'wasn', \"wasn't\", 'weren', \"weren't\", 'won', \"won't\", 'wouldn', \"wouldn't\", 'don', \"don't\", 'should', \"should've\", 'no', 'nor', 'not',\"but\", 'do', 'does', 'did', 'doing']\n",
    "new_list = [i for i in words if i not in remove_words]\n",
    "# new_list = new_list + [\"not_\" + w for w in new_list]\n",
    "print(new_list)\n",
    "print(len(new_list))\n",
    "# stopwords is inside new_list\n"
   ]
  },
  {
   "cell_type": "code",
   "execution_count": 16,
   "metadata": {
    "colab": {
     "base_uri": "https://localhost:8080/",
     "height": 206
    },
    "id": "T50X0b7NhYNo",
    "outputId": "6f1cda19-cca3-4081-cd32-2a66064f155e"
   },
   "outputs": [
    {
     "data": {
      "text/html": [
       "<div>\n",
       "<style scoped>\n",
       "    .dataframe tbody tr th:only-of-type {\n",
       "        vertical-align: middle;\n",
       "    }\n",
       "\n",
       "    .dataframe tbody tr th {\n",
       "        vertical-align: top;\n",
       "    }\n",
       "\n",
       "    .dataframe thead th {\n",
       "        text-align: right;\n",
       "    }\n",
       "</style>\n",
       "<table border=\"1\" class=\"dataframe\">\n",
       "  <thead>\n",
       "    <tr style=\"text-align: right;\">\n",
       "      <th></th>\n",
       "      <th>Unnamed: 0</th>\n",
       "      <th>rating</th>\n",
       "      <th>content</th>\n",
       "    </tr>\n",
       "  </thead>\n",
       "  <tbody>\n",
       "    <tr>\n",
       "      <th>0</th>\n",
       "      <td>19603</td>\n",
       "      <td>positive</td>\n",
       "      <td>This movie won audience choice in Calgary, but...</td>\n",
       "    </tr>\n",
       "    <tr>\n",
       "      <th>1</th>\n",
       "      <td>5345</td>\n",
       "      <td>positive</td>\n",
       "      <td>I had the honor of watching TDK during a scree...</td>\n",
       "    </tr>\n",
       "    <tr>\n",
       "      <th>2</th>\n",
       "      <td>9406</td>\n",
       "      <td>positive</td>\n",
       "      <td>One of the best I've ever seen.The movie had t...</td>\n",
       "    </tr>\n",
       "    <tr>\n",
       "      <th>3</th>\n",
       "      <td>9051</td>\n",
       "      <td>neutral</td>\n",
       "      <td>I read Stephen King's The Green Mile long befo...</td>\n",
       "    </tr>\n",
       "    <tr>\n",
       "      <th>4</th>\n",
       "      <td>24325</td>\n",
       "      <td>neutral</td>\n",
       "      <td>Far and away the most overrated film of all ti...</td>\n",
       "    </tr>\n",
       "  </tbody>\n",
       "</table>\n",
       "</div>"
      ],
      "text/plain": [
       "   Unnamed: 0    rating                                            content\n",
       "0       19603  positive  This movie won audience choice in Calgary, but...\n",
       "1        5345  positive  I had the honor of watching TDK during a scree...\n",
       "2        9406  positive  One of the best I've ever seen.The movie had t...\n",
       "3        9051   neutral  I read Stephen King's The Green Mile long befo...\n",
       "4       24325   neutral  Far and away the most overrated film of all ti..."
      ]
     },
     "execution_count": 16,
     "metadata": {},
     "output_type": "execute_result"
    }
   ],
   "source": [
    "df.head()"
   ]
  },
  {
   "cell_type": "code",
   "execution_count": 17,
   "metadata": {
    "colab": {
     "base_uri": "https://localhost:8080/",
     "height": 206
    },
    "id": "sM3L4eHdhcD7",
    "outputId": "6d3968a6-2334-4d09-ba52-0d74182b579c"
   },
   "outputs": [
    {
     "data": {
      "text/html": [
       "<div>\n",
       "<style scoped>\n",
       "    .dataframe tbody tr th:only-of-type {\n",
       "        vertical-align: middle;\n",
       "    }\n",
       "\n",
       "    .dataframe tbody tr th {\n",
       "        vertical-align: top;\n",
       "    }\n",
       "\n",
       "    .dataframe thead th {\n",
       "        text-align: right;\n",
       "    }\n",
       "</style>\n",
       "<table border=\"1\" class=\"dataframe\">\n",
       "  <thead>\n",
       "    <tr style=\"text-align: right;\">\n",
       "      <th></th>\n",
       "      <th>rating</th>\n",
       "      <th>content</th>\n",
       "    </tr>\n",
       "  </thead>\n",
       "  <tbody>\n",
       "    <tr>\n",
       "      <th>0</th>\n",
       "      <td>positive</td>\n",
       "      <td>This movie won audience choice in Calgary, but...</td>\n",
       "    </tr>\n",
       "    <tr>\n",
       "      <th>1</th>\n",
       "      <td>positive</td>\n",
       "      <td>I had the honor of watching TDK during a scree...</td>\n",
       "    </tr>\n",
       "    <tr>\n",
       "      <th>2</th>\n",
       "      <td>positive</td>\n",
       "      <td>One of the best I've ever seen.The movie had t...</td>\n",
       "    </tr>\n",
       "    <tr>\n",
       "      <th>3</th>\n",
       "      <td>neutral</td>\n",
       "      <td>I read Stephen King's The Green Mile long befo...</td>\n",
       "    </tr>\n",
       "    <tr>\n",
       "      <th>4</th>\n",
       "      <td>neutral</td>\n",
       "      <td>Far and away the most overrated film of all ti...</td>\n",
       "    </tr>\n",
       "  </tbody>\n",
       "</table>\n",
       "</div>"
      ],
      "text/plain": [
       "     rating                                            content\n",
       "0  positive  This movie won audience choice in Calgary, but...\n",
       "1  positive  I had the honor of watching TDK during a scree...\n",
       "2  positive  One of the best I've ever seen.The movie had t...\n",
       "3   neutral  I read Stephen King's The Green Mile long befo...\n",
       "4   neutral  Far and away the most overrated film of all ti..."
      ]
     },
     "execution_count": 17,
     "metadata": {},
     "output_type": "execute_result"
    }
   ],
   "source": [
    "df.drop(\"Unnamed: 0\", axis = 1, inplace = True)\n",
    "df.head()"
   ]
  },
  {
   "cell_type": "code",
   "execution_count": 18,
   "metadata": {
    "colab": {
     "base_uri": "https://localhost:8080/"
    },
    "id": "W2A7MiM3u5si",
    "outputId": "67db6b9c-ebd7-4ada-b014-ce7016b68cd5"
   },
   "outputs": [
    {
     "name": "stderr",
     "output_type": "stream",
     "text": [
      "[nltk_data] Downloading package punkt to\n",
      "[nltk_data]     C:\\Users\\ASUS\\AppData\\Roaming\\nltk_data...\n",
      "[nltk_data]   Package punkt is already up-to-date!\n"
     ]
    }
   ],
   "source": [
    "import re\n",
    "import nltk\n",
    "from nltk.tokenize import word_tokenize\n",
    "from nltk.corpus import stopwords\n",
    "from nltk.stem import PorterStemmer\n",
    "\n",
    "\n",
    "nltk.download('punkt')\n",
    "\n",
    "\n",
    "porter_stemmer = PorterStemmer()\n",
    "\n",
    "def remove_special_char(x):\n",
    "    return re.sub(\"[^a-zA-Z_]\", \" \", x)\n",
    "\n",
    "def stop_words_removal(x):\n",
    "    clean_data = []\n",
    "    for i in x.split(): #tokenize\n",
    "        if i.strip().lower() not in new_list:\n",
    "            clean_data.append(i.strip().lower())\n",
    "    return \" \".join(clean_data)\n",
    "\n",
    "def contraction_expansion(x):\n",
    "    x = re.sub(r\"won\\'t\", \"would not\", x)\n",
    "    x = re.sub(r\"can\\'t\", \"can not\", x)\n",
    "    x = re.sub(r\"don\\'t\", \"do not\", x)\n",
    "    x = re.sub(r\"shouldn\\'t\", \"should not\", x)\n",
    "    x = re.sub(r\"needn\\'t\", \"need not\", x)\n",
    "    x = re.sub(r\"hasn\\'t\", \"has not\", x)\n",
    "    x = re.sub(r\"haven\\'t\", \"have not\", x)\n",
    "    x = re.sub(r\"weren\\'t\", \"were not\", x)\n",
    "    x = re.sub(r\"mightn\\'t\", \"might not\", x)\n",
    "    x = re.sub(r\"didn\\'t\", \"did not\", x)\n",
    "    x = re.sub(r\"isn\\'t\", \"is not\", x)\n",
    "    x = re.sub(r\"\\'re\", \"are\", x)\n",
    "    x = re.sub(r\"\\'s\", \"is\", x)\n",
    "    x = re.sub(r\"\\'d\", \"would\", x)\n",
    "    x = re.sub(r\"\\'ll\", \"will\", x)\n",
    "    x = re.sub(r\"\\'t\", \"not\", x)\n",
    "    x = re.sub(r\"\\'ve\", \"have\", x)\n",
    "    x = re.sub(r\"\\'m\", \"am\", x)\n",
    "    return x\n",
    "\n",
    "\n",
    "\n",
    "def stemming(x):\n",
    "    return ' '.join([porter_stemmer.stem(word) for word in x.split()])\n",
    "\n",
    "def cleaning(x):\n",
    "\n",
    "    x = contraction_expansion(x)\n",
    "\n",
    "    x = remove_special_char(x)\n",
    "\n",
    "    x = stop_words_removal(x)\n",
    "\n",
    "\n",
    "    x = stemming(x)\n",
    "\n",
    "    return x\n",
    "\n",
    "\n",
    "\n",
    "df[\"content\"] = df[\"content\"].apply(cleaning)\n",
    "\n",
    "\n",
    "\n"
   ]
  },
  {
   "cell_type": "code",
   "execution_count": 19,
   "metadata": {
    "id": "IMwuW0pvA7Ji"
   },
   "outputs": [],
   "source": [
    "X = df[\"content\"]\n",
    "Y = df[\"rating\"]"
   ]
  },
  {
   "cell_type": "code",
   "execution_count": 20,
   "metadata": {
    "id": "L_BIxo30B28D"
   },
   "outputs": [],
   "source": [
    "X_train, X_test, Y_train, Y_test = train_test_split(X,Y,test_size = 0.2, stratify = Y, random_state = 2)\n"
   ]
  },
  {
   "cell_type": "code",
   "execution_count": 21,
   "metadata": {
    "colab": {
     "base_uri": "https://localhost:8080/"
    },
    "id": "aUCX0yV9IkWm",
    "outputId": "d1bcf263-b788-467b-a748-9e0fe2a87ce9"
   },
   "outputs": [
    {
     "name": "stdout",
     "output_type": "stream",
     "text": [
      "  (0, 1666)\t0.08346358658243398\n",
      "  (0, 32209)\t0.12972706394355749\n",
      "  (0, 29378)\t0.08951729180309223\n",
      "  (0, 36286)\t0.0690193673701657\n",
      "  (0, 13322)\t0.13066634245694608\n",
      "  (0, 3914)\t0.09713531390639266\n",
      "  (0, 15754)\t0.1719259982600924\n",
      "  (0, 17770)\t0.1673728226446867\n",
      "  (0, 6103)\t0.14670427161565253\n",
      "  (0, 29928)\t0.12139616793501996\n",
      "  (0, 32144)\t0.1673728226446867\n",
      "  (0, 22121)\t0.14359799647521101\n",
      "  (0, 10531)\t0.21713043003237753\n",
      "  (0, 12540)\t0.11151164578818991\n",
      "  (0, 6050)\t0.12333015037326224\n",
      "  (0, 21038)\t0.1039662012821928\n",
      "  (0, 5315)\t0.10986961522272846\n",
      "  (0, 14770)\t0.14931710459268602\n",
      "  (0, 24633)\t0.14096679400439222\n",
      "  (0, 31707)\t0.1417681459340517\n",
      "  (0, 34649)\t0.07968915236940756\n",
      "  (0, 19079)\t0.10128281677376061\n",
      "  (0, 11190)\t0.15965273448304676\n",
      "  (0, 27396)\t0.08438739036793105\n",
      "  (0, 17954)\t0.09033448784543881\n",
      "  :\t:\n",
      "  (19764, 24890)\t0.3376437797823649\n",
      "  (19764, 7057)\t0.2760098330525613\n",
      "  (19764, 32557)\t0.24933442756723034\n",
      "  (19764, 10323)\t0.19661672126610952\n",
      "  (19764, 13549)\t0.16051247014215453\n",
      "  (19764, 8922)\t0.18720884871408192\n",
      "  (19764, 29144)\t0.27090918350137916\n",
      "  (19764, 17318)\t0.16384128720919977\n",
      "  (19764, 28025)\t0.17527320243809033\n",
      "  (19764, 24057)\t0.27301278522210143\n",
      "  (19764, 23275)\t0.1797309392008912\n",
      "  (19764, 2202)\t0.12859059712203244\n",
      "  (19764, 14212)\t0.16736225815916012\n",
      "  (19764, 12970)\t0.09414995990279429\n",
      "  (19764, 14162)\t0.175128024116867\n",
      "  (19764, 2966)\t0.117823038646405\n",
      "  (19764, 858)\t0.11452278723102467\n",
      "  (19764, 23130)\t0.17731622045830642\n",
      "  (19764, 28041)\t0.1644726757326341\n",
      "  (19764, 19169)\t0.14118425993144054\n",
      "  (19764, 10280)\t0.12670223220546917\n",
      "  (19764, 20865)\t0.19120224077790138\n",
      "  (19764, 24185)\t0.11307656903892138\n",
      "  (19764, 12540)\t0.21003432738087072\n",
      "  (19764, 23049)\t0.16141118806543503\n",
      "  (0, 36286)\t0.0698416834650572\n",
      "  (0, 35876)\t0.10725031361115141\n",
      "  (0, 35017)\t0.09275957704374048\n",
      "  (0, 33272)\t0.07233243588735094\n",
      "  (0, 32045)\t0.1308521785747605\n",
      "  (0, 31775)\t0.189291948799516\n",
      "  (0, 31596)\t0.19953840275980886\n",
      "  (0, 31280)\t0.13871281815548267\n",
      "  (0, 31106)\t0.157633545096815\n",
      "  (0, 30965)\t0.05074587630713644\n",
      "  (0, 29693)\t0.19580939746243772\n",
      "  (0, 29305)\t0.13239985795294032\n",
      "  (0, 29149)\t0.1564579440675203\n",
      "  (0, 28517)\t0.1398178063673929\n",
      "  (0, 28506)\t0.05414186085847194\n",
      "  (0, 26352)\t0.07901122064882289\n",
      "  (0, 26221)\t0.14072608232525916\n",
      "  (0, 24863)\t0.07371111167602215\n",
      "  (0, 24852)\t0.16716809663174964\n",
      "  (0, 24499)\t0.11681766315832048\n",
      "  (0, 23569)\t0.1722002504740671\n",
      "  (0, 22818)\t0.21740108191255844\n",
      "  (0, 21368)\t0.11546645639041908\n",
      "  (0, 20939)\t0.056868612603171144\n",
      "  (0, 20814)\t0.12728041685464342\n",
      "  :\t:\n",
      "  (4941, 20333)\t0.12899342288965882\n",
      "  (4941, 19259)\t0.15588283028426914\n",
      "  (4941, 18408)\t0.18323703474185282\n",
      "  (4941, 18407)\t0.07489445778242369\n",
      "  (4941, 18354)\t0.061306958981842664\n",
      "  (4941, 17301)\t0.1497762486711757\n",
      "  (4941, 17300)\t0.17644425538030906\n",
      "  (4941, 16881)\t0.12596158462555662\n",
      "  (4941, 16782)\t0.15750330209424407\n",
      "  (4941, 16755)\t0.11725788834597725\n",
      "  (4941, 13743)\t0.11747524235050125\n",
      "  (4941, 13056)\t0.05977903148033137\n",
      "  (4941, 12854)\t0.04386981995230079\n",
      "  (4941, 11804)\t0.13925321414803588\n",
      "  (4941, 5377)\t0.517537339261507\n",
      "  (4941, 5125)\t0.09768306342972005\n",
      "  (4941, 5085)\t0.035289202730157565\n",
      "  (4941, 4987)\t0.07951843141057516\n",
      "  (4941, 4826)\t0.16515372405223863\n",
      "  (4941, 3523)\t0.0676547446435899\n",
      "  (4941, 3221)\t0.10142323910750958\n",
      "  (4941, 1919)\t0.07431760151655409\n",
      "  (4941, 1822)\t0.3177212275194251\n",
      "  (4941, 1802)\t0.10961335152816554\n",
      "  (4941, 297)\t0.05425779796509929\n"
     ]
    }
   ],
   "source": [
    "vectorizer = TfidfVectorizer()\n",
    "\n",
    "X_train = vectorizer.fit_transform(X_train)\n",
    "X_test = vectorizer.transform(X_test)\n",
    "print(X_train)\n",
    "print(X_test)"
   ]
  },
  {
   "cell_type": "code",
   "execution_count": 22,
   "metadata": {
    "colab": {
     "background_save": true
    },
    "id": "-8Hv6RLCzZPj",
    "outputId": "3eed559a-0f35-4a67-a9b1-e28cb3460ad5"
   },
   "outputs": [
    {
     "name": "stdout",
     "output_type": "stream",
     "text": [
      "Training accuracy without cross validation:  0.9612952188211485\n",
      "Test accuracy without cross validation:  0.7045730473492513\n"
     ]
    }
   ],
   "source": [
    "from sklearn.svm import SVC\n",
    "from sklearn.multiclass import OneVsOneClassifier\n",
    "from sklearn.preprocessing import LabelEncoder\n",
    "\n",
    "# Convert string labels to numerical labels\n",
    "label_encoder = LabelEncoder()\n",
    "Y_train_encoded = label_encoder.fit_transform(Y_train)\n",
    "Y_test_encoded = label_encoder.transform(Y_test)\n",
    "\n",
    "# Instantiate the SVC model with 'one-versus-one' strategy\n",
    "svm_model = SVC(kernel='rbf', decision_function_shape='ovo')\n",
    "\n",
    "# Wrap the SVM model with OneVsOneClassifier\n",
    "model_one = OneVsOneClassifier(svm_model)\n",
    "\n",
    "# Train the model\n",
    "model_one.fit(X_train, Y_train_encoded)\n",
    "\n",
    "# Evaluate the model\n",
    "X_train_prediction = model_one.predict(X_train)\n",
    "training_accuracy = accuracy_score(Y_train_encoded, X_train_prediction)\n",
    "print(\"Training accuracy without cross validation: \", training_accuracy)\n",
    "\n",
    "X_test_prediction = model_one.predict(X_test)\n",
    "test_accuracy = accuracy_score(Y_test_encoded, X_test_prediction)\n",
    "print(\"Test accuracy without cross validation: \", test_accuracy)"
   ]
  },
  {
   "cell_type": "code",
   "execution_count": null,
   "metadata": {
    "id": "OP-0aNK7RUaF"
   },
   "outputs": [],
   "source": []
  },
  {
   "cell_type": "markdown",
   "metadata": {
    "id": "AiiPEEcxRYt6"
   },
   "source": [
    "## With rbf Kernel"
   ]
  },
  {
   "cell_type": "code",
   "execution_count": 23,
   "metadata": {
    "colab": {
     "base_uri": "https://localhost:8080/",
     "height": 75
    },
    "id": "OVI8rv0JAyc8",
    "outputId": "dca587e1-7afd-4bf2-b433-4f9941f7a34d"
   },
   "outputs": [],
   "source": [
    "# from sklearn.model_selection import cross_val_score, KFold\n",
    "# from sklearn.svm import SVC\n",
    "# model_one = SVC(kernel= \"rbf\")\n",
    "\n",
    "# model_one.fit(X_train, Y_train)\n"
   ]
  },
  {
   "cell_type": "code",
   "execution_count": 24,
   "metadata": {
    "colab": {
     "base_uri": "https://localhost:8080/"
    },
    "id": "NLi-VVmhJwbm",
    "outputId": "1ec3282c-2a1f-438a-a373-5ff2d6e65f47"
   },
   "outputs": [],
   "source": [
    "# X_train_prediction = model_one.predict(X_train)\n",
    "# training_accuracy = accuracy_score(Y_train, X_train_prediction)\n",
    "# print(training_accuracy)"
   ]
  },
  {
   "cell_type": "code",
   "execution_count": 25,
   "metadata": {
    "colab": {
     "base_uri": "https://localhost:8080/"
    },
    "id": "U6MuLvN4B1Ek",
    "outputId": "7c0e7748-c94a-4d5b-d601-965554de1e46"
   },
   "outputs": [],
   "source": [
    "# X_test_prediction = model_one.predict(X_test)\n",
    "# test_accuracy = accuracy_score(Y_test, X_test_prediction)\n",
    "# print(test_accuracy)"
   ]
  },
  {
   "cell_type": "code",
   "execution_count": 26,
   "metadata": {
    "colab": {
     "base_uri": "https://localhost:8080/"
    },
    "id": "o0kCf9I_XVyI",
    "outputId": "ed9ea68d-93ca-48fd-e45e-340e9c4c5e81"
   },
   "outputs": [],
   "source": [
    "# ytest = np.array(Y_test)\n",
    "# print(classification_report(ytest, model_one.predict(X_test)))\n",
    "# print(confusion_matrix(ytest, model_one.predict(X_test)))"
   ]
  },
  {
   "cell_type": "markdown",
   "metadata": {
    "id": "HylTHNg3Rh-e"
   },
   "source": [
    "## With Linear Kernel"
   ]
  },
  {
   "cell_type": "code",
   "execution_count": 27,
   "metadata": {
    "id": "TvI5jJI53HF0"
   },
   "outputs": [],
   "source": [
    "# from sklearn.svm import SVC\n",
    "# model_two = SVC(kernel = \"linear\")\n",
    "# model_two.fit(X_train, Y_train)"
   ]
  },
  {
   "cell_type": "code",
   "execution_count": 28,
   "metadata": {
    "id": "c-c5ef8BFTF4"
   },
   "outputs": [],
   "source": [
    "# X_train_prediction = model_two.predict(X_train)\n",
    "# training_accuracy = accuracy_score(Y_train, X_train_prediction)\n",
    "# print(training_accuracy)"
   ]
  },
  {
   "cell_type": "code",
   "execution_count": 29,
   "metadata": {
    "id": "Afk1CVPCGIxY"
   },
   "outputs": [],
   "source": [
    "# X_test_prediction = model_two.predict(X_test)\n",
    "# test_accuracy = accuracy_score(Y_test, X_test_prediction)\n",
    "# print(test_accuracy)"
   ]
  },
  {
   "cell_type": "code",
   "execution_count": 30,
   "metadata": {
    "id": "nvkw93KkXTK0"
   },
   "outputs": [],
   "source": [
    "# ytest = np.array(Y_test)\n",
    "# print(classification_report(ytest, model_two.predict(X_test)))\n",
    "# print(confusion_matrix(ytest, model_two.predict(X_test)))"
   ]
  },
  {
   "cell_type": "code",
   "execution_count": 64,
   "metadata": {
    "colab": {
     "base_uri": "https://localhost:8080/"
    },
    "id": "JYb7OwHORBzi",
    "outputId": "56d4702f-dd12-4c11-ae0b-9a7784bd6dcb"
   },
   "outputs": [
    {
     "name": "stdin",
     "output_type": "stream",
     "text": [
      "Enter review =  hate\n"
     ]
    },
    {
     "name": "stdout",
     "output_type": "stream",
     "text": [
      "\n",
      "Cleaned Input Sentence: hate\n",
      "Predicted sentiment =  0\n"
     ]
    }
   ],
   "source": [
    "review = input(\"Enter review = \")\n",
    "review_cleaned = cleaning(review)\n",
    "print(\"\\nCleaned Input Sentence:\", review_cleaned)\n",
    "review_vectorized = vectorizer.transform([review_cleaned])\n",
    "predict_review_senti = model_one.predict(review_vectorized)\n",
    "print(\"Predicted sentiment = \", predict_review_senti[0])\n",
    "\n",
    "\n",
    "\n",
    "\n",
    "\n",
    "\n"
   ]
  },
  {
   "cell_type": "code",
   "execution_count": null,
   "metadata": {
    "id": "JNAdG97ykY1m"
   },
   "outputs": [],
   "source": []
  },
  {
   "cell_type": "code",
   "execution_count": 32,
   "metadata": {
    "id": "IRwUr9BxVdAE"
   },
   "outputs": [],
   "source": [
    "# review = input(\"Enter review = \")\n",
    "# review_cleaned = cleaning(review)\n",
    "# review_vectorized = vectorizer.transform([review_cleaned])\n",
    "# predict_review_senti = model_two.predict(review_vectorized)\n",
    "# print(\"Predicted sentiment = \", predict_review_senti[0])\n",
    "\n",
    "\n",
    "\n",
    "\n"
   ]
  },
  {
   "cell_type": "markdown",
   "metadata": {
    "id": "ahRqfOo0fvi6"
   },
   "source": [
    "## With Polynomial"
   ]
  },
  {
   "cell_type": "code",
   "execution_count": 33,
   "metadata": {
    "id": "Jh7ahme2fsHw"
   },
   "outputs": [],
   "source": [
    "# from sklearn.svm import SVC\n",
    "# model_three = SVC(kernel = \"poly\" , degree=3, C=1.0)\n",
    "# model_three.fit(X_train, Y_train)"
   ]
  },
  {
   "cell_type": "code",
   "execution_count": 34,
   "metadata": {
    "id": "msbhpAKKf-PS"
   },
   "outputs": [],
   "source": [
    "# X_train_prediction = model_three.predict(X_train)\n",
    "# training_accuracy = accuracy_score(Y_train, X_train_prediction)\n",
    "# print(training_accuracy)"
   ]
  },
  {
   "cell_type": "code",
   "execution_count": 35,
   "metadata": {
    "id": "8g7FhhiZgAe9"
   },
   "outputs": [],
   "source": [
    "# X_test_prediction = model_three.predict(X_test)\n",
    "# test_accuracy = accuracy_score(Y_test, X_test_prediction)\n",
    "# print(test_accuracy)"
   ]
  },
  {
   "cell_type": "code",
   "execution_count": 36,
   "metadata": {
    "id": "-m-CDnDMgE4i"
   },
   "outputs": [],
   "source": [
    "# review = input(\"Enter review = \")\n",
    "# review_cleaned = cleaning(review)\n",
    "# review_vectorized = vectorizer.transform([review_cleaned])\n",
    "# predict_review_senti = model_three.predict(review_vectorized)\n",
    "# print(\"Predicted sentiment = \", predict_review_senti[0])\n"
   ]
  },
  {
   "cell_type": "code",
   "execution_count": 37,
   "metadata": {
    "id": "HS1Lge3MVi6B"
   },
   "outputs": [],
   "source": [
    "# import pickle"
   ]
  },
  {
   "cell_type": "code",
   "execution_count": 38,
   "metadata": {
    "id": "TxykfxEnWSjc"
   },
   "outputs": [],
   "source": [
    "# with open('new_svm.pkl', 'wb') as model_file:\n",
    "#     pickle.dump(model_one, model_file)\n",
    "\n",
    "# # Save the vectorizer to a file\n",
    "# with open('new_vectorizer.pkl', 'wb') as vectorizer_file:\n",
    "#     pickle.dump(vectorizer, vectorizer_file)"
   ]
  },
  {
   "cell_type": "code",
   "execution_count": null,
   "metadata": {
    "id": "MgGDMw9QaDkp"
   },
   "outputs": [],
   "source": []
  }
 ],
 "metadata": {
  "colab": {
   "provenance": []
  },
  "kernelspec": {
   "display_name": "Python 3 (ipykernel)",
   "language": "python",
   "name": "python3"
  },
  "language_info": {
   "codemirror_mode": {
    "name": "ipython",
    "version": 3
   },
   "file_extension": ".py",
   "mimetype": "text/x-python",
   "name": "python",
   "nbconvert_exporter": "python",
   "pygments_lexer": "ipython3",
   "version": "3.11.7"
  }
 },
 "nbformat": 4,
 "nbformat_minor": 4
}
